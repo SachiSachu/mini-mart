{
  "nbformat": 4,
  "nbformat_minor": 0,
  "metadata": {
    "colab": {
      "name": "add stock.ipynb",
      "provenance": [],
      "collapsed_sections": []
    },
    "kernelspec": {
      "name": "python3",
      "display_name": "Python 3"
    },
    "language_info": {
      "name": "python"
    }
  },
  "cells": [
    {
      "cell_type": "code",
      "metadata": {
        "colab": {
          "base_uri": "https://localhost:8080/"
        },
        "id": "Vfv9nL8th8KQ",
        "outputId": "2dab4c82-ea23-4ab5-883d-aa2f1945f245"
      },
      "source": [
        "import json\n",
        "fd = open('newjson.json','r')\n",
        "data = fd.read()\n",
        "fd.close()\n",
        "record = json.loads(data)\n",
        "print(\"****This is for office crew****\")\n",
        "x = int(input(\"enter 1 to update existing data:\\n2 for adding new data: \"))\n",
        "if x ==1:\n",
        "  prod_id = input(\"enter product_id: \")\n",
        "  qty = int(input(\"enter the quantity: \"))\n",
        "  price = float(input(\"enter the price: \"))\n",
        "  if prod_id in record.keys():\n",
        "    record[prod_id][\"Quantity\"] = record[prod_id][\"Quantity\"] + qty\n",
        "    record[prod_id][\"mall_price\"] = price\n",
        "  else:\n",
        "    print(\"product id does not exist:\")\n",
        "\n",
        "if x==2:\n",
        "  prod_id = input(\"enter product_id: \")\n",
        "  prod_name = input(\"enter the product name: \")\n",
        "  qty = int(input(\"enter the quantity: \"))\n",
        "  mprice = float(input(\"enter the mall price: \"))\n",
        "  aprice = float(input(\"enter the actual price: \"))\n",
        "  info = input(\"enter the product info: \")\n",
        "  exp = input(\"enter expiry of product: \")\n",
        "  if prod_id not in record.keys():\n",
        "    record[prod_id]= {\"Name\":prod_name, \"mall_price\": mprice, \"Actual_price\": aprice, \"Quantity\": qty, \"product_info\": info, \"prod_exp\": exp}\n",
        "  else:\n",
        "    print(\"prod id exists : \")\n",
        "if x==1 or x==2:\n",
        "  data = json.dumps(record)\n",
        "  sd = open(\"newjson.json\",'w')\n",
        "  sd.write(data)\n",
        "  sd.close()"
      ],
      "execution_count": 14,
      "outputs": [
        {
          "name": "stdout",
          "output_type": "stream",
          "text": [
            "****This is for office crew****\n",
            "enter 1 to update existing data:\n",
            "2 for adding new data: 2\n",
            "enter product_id: 1031\n",
            "enter the product name: sachu\n",
            "enter the quantity: 1\n",
            "enter the mall price: 1\n",
            "enter the actual price: 2\n",
            "enter the product info: man\n",
            "enter expiry of product: none\n"
          ]
        }
      ]
    },
    {
      "cell_type": "code",
      "metadata": {
        "id": "7O0AUiJRkzKv"
      },
      "source": [
        ""
      ],
      "execution_count": null,
      "outputs": []
    }
  ]
}