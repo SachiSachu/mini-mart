{
  "nbformat": 4,
  "nbformat_minor": 0,
  "metadata": {
    "colab": {
      "name": "mart.ipynb",
      "provenance": [],
      "collapsed_sections": []
    },
    "kernelspec": {
      "name": "python3",
      "display_name": "Python 3"
    },
    "language_info": {
      "name": "python"
    }
  },
  "cells": [
    {
      "cell_type": "code",
      "metadata": {
        "colab": {
          "base_uri": "https://localhost:8080/"
        },
        "id": "xiTrdsn1QsKR",
        "outputId": "957d69bc-2c4c-435c-bbce-5ace05b96629"
      },
      "source": [
        "import string\n",
        "from datetime import datetime\n",
        "import random\n",
        "\n",
        "note = open('shop_list.txt','r')\n",
        "fd = note.read()\n",
        "note.close() \n",
        "products = fd.split('\\n')\n",
        "\n",
        "def Bill(a,b,c,d):\n",
        "    ran = ''.join(random.choices(string.ascii_uppercase + string.digits, k=12)) # takes the random inputs for transac id\n",
        "    print(\"\\n************     SACHU's MINI D-Mart**********\\n\") #prints the mart name\n",
        "    print(\"time: \",datetime.now(),\"      Transaction_id: \",ran) # prints time and transac id\n",
        "    print('______________________________________________________________________')\n",
        "    print('name\\t\\tprice\\t\\tqty\\t\\tsub-total')  \n",
        "    print(a,'\\t',b,'\\t\\t',c,'\\t\\t',d) #a = name, b = price, c = qty purchased, d = b*c\n",
        "    print('_________                               _______________________')\n",
        "    print('#Total                                          ',d)\n",
        "    return 0\n",
        "print(\"*****This customer desk for purchase**********\") #main drive program\n",
        "new_record = []                                         #creates a list\n",
        "pro_id = input(\"enter the product id: \")                #takes the user input , i.e product id\n",
        "qty = int(input(\"enter the quantity: \"))                #takes user qty\n",
        "for product in products:                                #it choose line k in products where k = 0,1,2,3......n(n = last line in products)\n",
        "    prod = product.split(',')                           #we will split those lines again by , and store them in inner list prod[0,1,2,3,4.....]\n",
        "    if pro_id == prod[0]:                               #we will chek prod[0] i.e product id with user id \n",
        "        if qty <= int(prod[4]):                         #to check the user qty with stock in store \n",
        "            print(\"im in\")\n",
        "            d = float(prod[2])*qty                      # d stores sub total and total of that product \n",
        "            Bill(prod[1],prod[2],qty,d)                 # calling Bill function to perform its action\n",
        "            prod[4] = int(prod[4])-qty                  # we will update the user qty from the product qty\n",
        "        else:\n",
        "            print(\"enter quantity exceeds the limit: \",prod[4])\n",
        "    new_record.append(prod[0]+','+prod[1]+','+prod[2]+','+prod[3]+','+str(prod[4])+','+prod[5]+','+prod[6]+'\\n') #we will be storing all the records in new_recored\n",
        "new_record[-1] = new_record[-1][:-1]                    #observe the above line we are adding \"\\n\" at the end of everyline, to remove the \"\\n\" from last line we use this\n",
        "\n",
        "f1 = open('shop_list.txt','w') #reopening the file and writing with updated new_record value\n",
        "for i in new_record:\n",
        "    f1.write(i)\n",
        "f1.close()"
      ],
      "execution_count": 6,
      "outputs": [
        {
          "output_type": "stream",
          "name": "stdout",
          "text": [
            "*****This customer desk for purchase**********\n",
            "enter the product id: 012\n",
            "enter the quantity: 0\n",
            "im in\n",
            "\n",
            "************     SACHU's MINI D-Mart**********\n",
            "\n",
            "time:  2021-09-06 14:44:15.972447       Transaction_id:  698C8A33UU48\n",
            "______________________________________________________________________\n",
            "name\t\tprice\t\tqty\t\tsub-total\n",
            "Sprite-Cool \t 67 \t\t 0 \t\t 0.0\n",
            "_________                               _______________________\n",
            "#Total                                           0.0\n"
          ]
        }
      ]
    },
    {
      "cell_type": "code",
      "metadata": {
        "colab": {
          "base_uri": "https://localhost:8080/"
        },
        "id": "0uZVxGnuQuL0",
        "outputId": "4e48ba16-3199-4d4b-e1c1-b4f0acdde72f"
      },
      "source": [
        "print(\"******this is for agent to manage the products*********\")\n",
        "print(\"which product would you like to add: \")\n",
        "entry1 = int(input(\"enter 1 for existing: \\nenter 2 for new item: \"))\n",
        "new_record = []\n",
        "if entry1 == 1:\n",
        "    print(\"**********enter the product Details***************\")\n",
        "    pro_id = input(\"enter the product id: \")\n",
        "    qty = int(input(\"enter the quantity: \"))\n",
        "    for product in products:\n",
        "        prod = product.split(',')\n",
        "        if pro_id == prod[0]:\n",
        "            prod[4] = int(prod[4]) + qty\n",
        "        new_record.append(prod[0]+','+prod[1]+','+prod[2]+','+prod[3]+','+str(prod[4])+','+prod[5]+','+prod[6]+'\\n')\n",
        "    new_record[-1] = new_record[-1][:-1]\n",
        "    f1 = open('shop_list.txt','w')\n",
        "    for i in new_record:\n",
        "        f1.write(i)\n",
        "    f1.close()\n",
        "\n",
        "elif entry1 ==2:\n",
        "    print(\"**********enter the product Details***************\")\n",
        "    pro_id = input('enter the product id: ')0\n",
        "    pro_name = input('enter the product Name: ')\n",
        "    mall_price = input('enter the mall price: ')\n",
        "    actual_price = input('enter the Actual price: ')\n",
        "    qty = input(\"enter the quantity: \")\n",
        "    prod_info = input(\"enter the product details: \")\n",
        "    prod_exp = input(\"enter the product expiry: \")\n",
        "        \n",
        "    init1 = (pro_id+','+pro_name+','+mall_price+','+actual_price+','+qty+','+prod_info+','+prod_exp+'\\n')\n",
        "    f1 = open('shop_list.txt','a')          # we are just writing or adding an extra line into the file with append mode\n",
        "    f1.write(\"\\n\")\n",
        "    f1.write(init1)\n",
        "    f1.close()    "
      ],
      "execution_count": 7,
      "outputs": [
        {
          "name": "stdout",
          "output_type": "stream",
          "text": [
            "******this is for agent to manage the products*********\n",
            "which product would you like to add: \n",
            "enter 1 for existing: \n",
            "enter 2 for new item: 1\n",
            "**********enter the product Details***************\n",
            "enter the product id: 011\n",
            "enter the quantity: 0\n"
          ]
        }
      ]
    },
    {
      "cell_type": "code",
      "metadata": {
        "id": "WyN22EREeSrB"
      },
      "source": [
        ""
      ],
      "execution_count": null,
      "outputs": []
    }
  ]
}